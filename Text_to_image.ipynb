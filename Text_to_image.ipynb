pip install --upgrade diffusers transformers -q

from pathlib import Path
import tqdm 
import torch 
import pandas as pd 
import numpy as np
from diffusers import StableDiffusionPipeline 
from transformers import pipeline , set_seed
import matplotlib.pyplot as plt
import cv2

class CFG:
  device = "cuda"if torch.cuda.is_available() else "cpu" 
  seed = 42
  generator = torch.Generator(device=device).manual_seed(seed)
  image_gen_steps = 20
  image_gen_model_id = 'stabilityai/stable-diffusion-2'
  image_gen_size = (768,768)
  image_gen_guidance_scale = 9
  prompt_gen_model_id = 'gpt2'
  prompt_dataset_size = 6
  prompt_max_length = 12

import os

hf_token = os.getenv("HF_Token")  # Store this in an environment variable
image_gen_model = StableDiffusionPipeline.from_pretrained(
    CFG.image_gen_model_id,
    torch_dtype=torch.float16,
    revision='fp16',
    use_auth_token=hf_token,  # Load securely
    guidance_scale=9
).to(CFG.device) 

import os

def generate_image(prompt, model):
    # Validate prompt
    if not prompt or not isinstance(prompt, str):
        raise ValueError("Invalid prompt: Provide a non-empty string.")

    # Generate image
    image = model(prompt, num_inference_steps=CFG.image_gen_steps, 
                  generator=CFG.generator, 
                  guidance_scale=CFG.image_gen_guidance_scale).images[0]

    # Ensure image is processed correctly on CPU
    if CFG.device == "cpu":
        image = image.cpu()

    # Resize image while maintaining aspect ratio
    image.thumbnail(CFG.image_gen_size)

    # Create directory if it doesn't exist
    save_dir = "generated_images"
    os.makedirs(save_dir, exist_ok=True)

    # Save image
    save_path = os.path.join(save_dir, f"{prompt.replace(' ', '_')}.png")
    image.save(save_path)
    
    print(f"Image saved at: {save_path}")
    
    return image  # Return the generated image

generate_image("A Horse", image_gen_model)

for the best and fast result use kernel(Hardware Connector - T4 GPU on google collab sheet
